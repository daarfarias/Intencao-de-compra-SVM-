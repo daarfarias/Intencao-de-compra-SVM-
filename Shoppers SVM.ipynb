{
 "cells": [
  {
   "cell_type": "markdown",
   "id": "breeding-kingdom",
   "metadata": {},
   "source": [
    "# PREVENDO INTENÇÃO DE COMPRA (SVM)"
   ]
  },
  {
   "cell_type": "markdown",
   "id": "logical-scratch",
   "metadata": {},
   "source": [
    "> *O conjunto de dados consiste em vetores de recursos pertencentes a 12.330 sessões. O conjunto de dados foi formado de modo que cada sessão pertencesse a um usuário diferente em um período de 1 ano, para evitar a influência de qualquer tendência para uma campanha específica, dia especial, perfil de usuário ou período específico. O conjunto de dados consiste em 10 atributos numéricos e 8 categóricos. O atributo 'Revenue' pode ser usado como o rótulo da classe.*]\n",
    "\n",
    "<br>\n",
    "\n",
    "**OBJETIVO**\n",
    "\n",
    "**-Prever intenção de compra de usuários de comércio eletrônico.**\n",
    "\n",
    "<br>\n",
    "\n",
    "**Dataset:** https://archive.ics.uci.edu/ml/datasets/Online+Shoppers+Purchasing+Intention+Dataset"
   ]
  },
  {
   "cell_type": "markdown",
   "id": "prospective-prefix",
   "metadata": {},
   "source": [
    "## CARREGANDO PACOTES E IMPORTANDO DADOS"
   ]
  },
  {
   "cell_type": "code",
   "execution_count": 1,
   "id": "designed-negative",
   "metadata": {
    "scrolled": true
   },
   "outputs": [
    {
     "name": "stderr",
     "output_type": "stream",
     "text": [
      "Warning message:\n",
      "\"package 'tidyverse' was built under R version 3.6.3\"-- Attaching packages --------------------------------------- tidyverse 1.3.0 --\n",
      "v ggplot2 3.3.3     v purrr   0.3.4\n",
      "v tibble  3.0.6     v dplyr   1.0.4\n",
      "v tidyr   1.1.2     v stringr 1.4.0\n",
      "v readr   1.3.1     v forcats 0.4.0\n",
      "Warning message:\n",
      "\"package 'ggplot2' was built under R version 3.6.3\"Warning message:\n",
      "\"package 'tibble' was built under R version 3.6.3\"Warning message:\n",
      "\"package 'tidyr' was built under R version 3.6.3\"Warning message:\n",
      "\"package 'purrr' was built under R version 3.6.3\"Warning message:\n",
      "\"package 'dplyr' was built under R version 3.6.3\"-- Conflicts ------------------------------------------ tidyverse_conflicts() --\n",
      "x dplyr::filter() masks stats::filter()\n",
      "x dplyr::lag()    masks stats::lag()\n",
      "Warning message:\n",
      "\"package 'caret' was built under R version 3.6.3\"Loading required package: lattice\n",
      "\n",
      "Attaching package: 'caret'\n",
      "\n",
      "The following object is masked from 'package:purrr':\n",
      "\n",
      "    lift\n",
      "\n",
      "Warning message:\n",
      "\"package 'pROC' was built under R version 3.6.3\"Type 'citation(\"pROC\")' for a citation.\n",
      "\n",
      "Attaching package: 'pROC'\n",
      "\n",
      "The following objects are masked from 'package:stats':\n",
      "\n",
      "    cov, smooth, var\n",
      "\n",
      "Warning message:\n",
      "\"package 'ROCR' was built under R version 3.6.3\"Warning message:\n",
      "\"package 'ROSE' was built under R version 3.6.3\"Loaded ROSE 0.0-3\n",
      "\n",
      "Warning message:\n",
      "\"package 'e1071' was built under R version 3.6.3\"Warning message:\n",
      "\"package 'mice' was built under R version 3.6.3\"\n",
      "Attaching package: 'mice'\n",
      "\n",
      "The following object is masked from 'package:stats':\n",
      "\n",
      "    filter\n",
      "\n",
      "The following objects are masked from 'package:base':\n",
      "\n",
      "    cbind, rbind\n",
      "\n",
      "Warning message:\n",
      "\"package 'DMwR' was built under R version 3.6.3\"Loading required package: grid\n",
      "Registered S3 method overwritten by 'xts':\n",
      "  method     from\n",
      "  as.zoo.xts zoo \n",
      "Registered S3 method overwritten by 'quantmod':\n",
      "  method            from\n",
      "  as.zoo.data.frame zoo \n",
      "Warning message:\n",
      "\"package 'multiROC' was built under R version 3.6.3\"Warning message:\n",
      "\"package 'knitr' was built under R version 3.6.3\"Warning message:\n",
      "\"package 'gridExtra' was built under R version 3.6.3\"\n",
      "Attaching package: 'gridExtra'\n",
      "\n",
      "The following object is masked from 'package:dplyr':\n",
      "\n",
      "    combine\n",
      "\n"
     ]
    }
   ],
   "source": [
    "# Carregando pacotes\n",
    "library(tidyverse)\n",
    "library(caret)\n",
    "library(gains)\n",
    "library(pROC)\n",
    "library(ROCR)\n",
    "library(ROSE)\n",
    "library(e1071)\n",
    "library(mice)\n",
    "library(DMwR)\n",
    "library(multiROC)\n",
    "library(knitr)\n",
    "library(gridExtra)"
   ]
  },
  {
   "cell_type": "code",
   "execution_count": 2,
   "id": "viral-allen",
   "metadata": {},
   "outputs": [],
   "source": [
    "# Importando os dados\n",
    "df_shoppers<- read.csv(\"online_shoppers_intention.csv\")"
   ]
  },
  {
   "cell_type": "code",
   "execution_count": 3,
   "id": "impressed-scroll",
   "metadata": {},
   "outputs": [
    {
     "data": {
      "text/plain": [
       " Administrative   Administrative_Duration Informational   \n",
       " Min.   : 0.000   Min.   :  -1.00         Min.   : 0.000  \n",
       " 1st Qu.: 0.000   1st Qu.:   0.00         1st Qu.: 0.000  \n",
       " Median : 1.000   Median :   8.00         Median : 0.000  \n",
       " Mean   : 2.318   Mean   :  80.91         Mean   : 0.504  \n",
       " 3rd Qu.: 4.000   3rd Qu.:  93.50         3rd Qu.: 0.000  \n",
       " Max.   :27.000   Max.   :3398.75         Max.   :24.000  \n",
       " NA's   :14       NA's   :14              NA's   :14      \n",
       " Informational_Duration ProductRelated   ProductRelated_Duration\n",
       " Min.   :  -1.00        Min.   :  0.00   Min.   :   -1.0        \n",
       " 1st Qu.:   0.00        1st Qu.:  7.00   1st Qu.:  185.0        \n",
       " Median :   0.00        Median : 18.00   Median :  599.8        \n",
       " Mean   :  34.51        Mean   : 31.76   Mean   : 1196.0        \n",
       " 3rd Qu.:   0.00        3rd Qu.: 38.00   3rd Qu.: 1466.5        \n",
       " Max.   :2549.38        Max.   :705.00   Max.   :63973.5        \n",
       " NA's   :14             NA's   :14       NA's   :14             \n",
       "  BounceRates         ExitRates         PageValues        SpecialDay     \n",
       " Min.   :0.000000   Min.   :0.00000   Min.   :  0.000   Min.   :0.00000  \n",
       " 1st Qu.:0.000000   1st Qu.:0.01429   1st Qu.:  0.000   1st Qu.:0.00000  \n",
       " Median :0.003119   Median :0.02512   Median :  0.000   Median :0.00000  \n",
       " Mean   :0.022152   Mean   :0.04300   Mean   :  5.889   Mean   :0.06143  \n",
       " 3rd Qu.:0.016684   3rd Qu.:0.05000   3rd Qu.:  0.000   3rd Qu.:0.00000  \n",
       " Max.   :0.200000   Max.   :0.20000   Max.   :361.764   Max.   :1.00000  \n",
       " NA's   :14         NA's   :14                                           \n",
       "     Month      OperatingSystems    Browser           Region     \n",
       " May    :3364   Min.   :1.000    Min.   : 1.000   Min.   :1.000  \n",
       " Nov    :2998   1st Qu.:2.000    1st Qu.: 2.000   1st Qu.:1.000  \n",
       " Mar    :1907   Median :2.000    Median : 2.000   Median :3.000  \n",
       " Dec    :1727   Mean   :2.124    Mean   : 2.357   Mean   :3.147  \n",
       " Oct    : 549   3rd Qu.:3.000    3rd Qu.: 2.000   3rd Qu.:4.000  \n",
       " Sep    : 448   Max.   :8.000    Max.   :13.000   Max.   :9.000  \n",
       " (Other):1337                                                    \n",
       "  TrafficType               VisitorType     Weekend         Revenue       \n",
       " Min.   : 1.00   New_Visitor      : 1694   Mode :logical   Mode :logical  \n",
       " 1st Qu.: 2.00   Other            :   85   FALSE:9462      FALSE:10422    \n",
       " Median : 2.00   Returning_Visitor:10551   TRUE :2868      TRUE :1908     \n",
       " Mean   : 4.07                                                            \n",
       " 3rd Qu.: 4.00                                                            \n",
       " Max.   :20.00                                                            \n",
       "                                                                          "
      ]
     },
     "metadata": {},
     "output_type": "display_data"
    }
   ],
   "source": [
    "# Sumário dos dados\n",
    "summary(df_shoppers)"
   ]
  },
  {
   "cell_type": "code",
   "execution_count": 4,
   "id": "precise-signature",
   "metadata": {},
   "outputs": [
    {
     "data": {
      "text/html": [
       "<table>\n",
       "<thead><tr><th scope=col>Administrative</th><th scope=col>Administrative_Duration</th><th scope=col>Informational</th><th scope=col>Informational_Duration</th><th scope=col>ProductRelated</th><th scope=col>ProductRelated_Duration</th><th scope=col>BounceRates</th><th scope=col>ExitRates</th><th scope=col>PageValues</th><th scope=col>SpecialDay</th><th scope=col>Month</th><th scope=col>OperatingSystems</th><th scope=col>Browser</th><th scope=col>Region</th><th scope=col>TrafficType</th><th scope=col>VisitorType</th><th scope=col>Weekend</th><th scope=col>Revenue</th></tr></thead>\n",
       "<tbody>\n",
       "\t<tr><td>0                </td><td> 0               </td><td>0                </td><td> 0               </td><td> 1               </td><td>  0.000000       </td><td>0.20000000       </td><td>0.2000000        </td><td>0                </td><td>0                </td><td>Feb              </td><td>1                </td><td>1                </td><td>1                </td><td>1                </td><td>Returning_Visitor</td><td>FALSE            </td><td>FALSE            </td></tr>\n",
       "\t<tr><td>0                </td><td> 0               </td><td>0                </td><td> 0               </td><td> 2               </td><td> 64.000000       </td><td>0.00000000       </td><td>0.1000000        </td><td>0                </td><td>0                </td><td>Feb              </td><td>2                </td><td>2                </td><td>1                </td><td>2                </td><td>Returning_Visitor</td><td>FALSE            </td><td>FALSE            </td></tr>\n",
       "\t<tr><td>0                </td><td>-1               </td><td>0                </td><td>-1               </td><td> 1               </td><td> -1.000000       </td><td>0.20000000       </td><td>0.2000000        </td><td>0                </td><td>0                </td><td>Feb              </td><td>4                </td><td>1                </td><td>9                </td><td>3                </td><td>Returning_Visitor</td><td>FALSE            </td><td>FALSE            </td></tr>\n",
       "\t<tr><td>0                </td><td> 0               </td><td>0                </td><td> 0               </td><td> 2               </td><td>  2.666667       </td><td>0.05000000       </td><td>0.1400000        </td><td>0                </td><td>0                </td><td>Feb              </td><td>3                </td><td>2                </td><td>2                </td><td>4                </td><td>Returning_Visitor</td><td>FALSE            </td><td>FALSE            </td></tr>\n",
       "\t<tr><td>0                </td><td> 0               </td><td>0                </td><td> 0               </td><td>10               </td><td>627.500000       </td><td>0.02000000       </td><td>0.0500000        </td><td>0                </td><td>0                </td><td>Feb              </td><td>3                </td><td>3                </td><td>1                </td><td>4                </td><td>Returning_Visitor</td><td> TRUE            </td><td>FALSE            </td></tr>\n",
       "\t<tr><td>0                </td><td> 0               </td><td>0                </td><td> 0               </td><td>19               </td><td>154.216667       </td><td>0.01578947       </td><td>0.0245614        </td><td>0                </td><td>0                </td><td>Feb              </td><td>2                </td><td>2                </td><td>1                </td><td>3                </td><td>Returning_Visitor</td><td>FALSE            </td><td>FALSE            </td></tr>\n",
       "</tbody>\n",
       "</table>\n"
      ],
      "text/latex": [
       "\\begin{tabular}{r|llllllllllllllllll}\n",
       " Administrative & Administrative\\_Duration & Informational & Informational\\_Duration & ProductRelated & ProductRelated\\_Duration & BounceRates & ExitRates & PageValues & SpecialDay & Month & OperatingSystems & Browser & Region & TrafficType & VisitorType & Weekend & Revenue\\\\\n",
       "\\hline\n",
       "\t 0                   &  0                  & 0                   &  0                  &  1                  &   0.000000          & 0.20000000          & 0.2000000           & 0                   & 0                   & Feb                 & 1                   & 1                   & 1                   & 1                   & Returning\\_Visitor & FALSE               & FALSE              \\\\\n",
       "\t 0                   &  0                  & 0                   &  0                  &  2                  &  64.000000          & 0.00000000          & 0.1000000           & 0                   & 0                   & Feb                 & 2                   & 2                   & 1                   & 2                   & Returning\\_Visitor & FALSE               & FALSE              \\\\\n",
       "\t 0                   & -1                  & 0                   & -1                  &  1                  &  -1.000000          & 0.20000000          & 0.2000000           & 0                   & 0                   & Feb                 & 4                   & 1                   & 9                   & 3                   & Returning\\_Visitor & FALSE               & FALSE              \\\\\n",
       "\t 0                   &  0                  & 0                   &  0                  &  2                  &   2.666667          & 0.05000000          & 0.1400000           & 0                   & 0                   & Feb                 & 3                   & 2                   & 2                   & 4                   & Returning\\_Visitor & FALSE               & FALSE              \\\\\n",
       "\t 0                   &  0                  & 0                   &  0                  & 10                  & 627.500000          & 0.02000000          & 0.0500000           & 0                   & 0                   & Feb                 & 3                   & 3                   & 1                   & 4                   & Returning\\_Visitor &  TRUE               & FALSE              \\\\\n",
       "\t 0                   &  0                  & 0                   &  0                  & 19                  & 154.216667          & 0.01578947          & 0.0245614           & 0                   & 0                   & Feb                 & 2                   & 2                   & 1                   & 3                   & Returning\\_Visitor & FALSE               & FALSE              \\\\\n",
       "\\end{tabular}\n"
      ],
      "text/markdown": [
       "\n",
       "| Administrative | Administrative_Duration | Informational | Informational_Duration | ProductRelated | ProductRelated_Duration | BounceRates | ExitRates | PageValues | SpecialDay | Month | OperatingSystems | Browser | Region | TrafficType | VisitorType | Weekend | Revenue |\n",
       "|---|---|---|---|---|---|---|---|---|---|---|---|---|---|---|---|---|---|\n",
       "| 0                 |  0                | 0                 |  0                |  1                |   0.000000        | 0.20000000        | 0.2000000         | 0                 | 0                 | Feb               | 1                 | 1                 | 1                 | 1                 | Returning_Visitor | FALSE             | FALSE             |\n",
       "| 0                 |  0                | 0                 |  0                |  2                |  64.000000        | 0.00000000        | 0.1000000         | 0                 | 0                 | Feb               | 2                 | 2                 | 1                 | 2                 | Returning_Visitor | FALSE             | FALSE             |\n",
       "| 0                 | -1                | 0                 | -1                |  1                |  -1.000000        | 0.20000000        | 0.2000000         | 0                 | 0                 | Feb               | 4                 | 1                 | 9                 | 3                 | Returning_Visitor | FALSE             | FALSE             |\n",
       "| 0                 |  0                | 0                 |  0                |  2                |   2.666667        | 0.05000000        | 0.1400000         | 0                 | 0                 | Feb               | 3                 | 2                 | 2                 | 4                 | Returning_Visitor | FALSE             | FALSE             |\n",
       "| 0                 |  0                | 0                 |  0                | 10                | 627.500000        | 0.02000000        | 0.0500000         | 0                 | 0                 | Feb               | 3                 | 3                 | 1                 | 4                 | Returning_Visitor |  TRUE             | FALSE             |\n",
       "| 0                 |  0                | 0                 |  0                | 19                | 154.216667        | 0.01578947        | 0.0245614         | 0                 | 0                 | Feb               | 2                 | 2                 | 1                 | 3                 | Returning_Visitor | FALSE             | FALSE             |\n",
       "\n"
      ],
      "text/plain": [
       "  Administrative Administrative_Duration Informational Informational_Duration\n",
       "1 0               0                      0              0                    \n",
       "2 0               0                      0              0                    \n",
       "3 0              -1                      0             -1                    \n",
       "4 0               0                      0              0                    \n",
       "5 0               0                      0              0                    \n",
       "6 0               0                      0              0                    \n",
       "  ProductRelated ProductRelated_Duration BounceRates ExitRates PageValues\n",
       "1  1               0.000000              0.20000000  0.2000000 0         \n",
       "2  2              64.000000              0.00000000  0.1000000 0         \n",
       "3  1              -1.000000              0.20000000  0.2000000 0         \n",
       "4  2               2.666667              0.05000000  0.1400000 0         \n",
       "5 10             627.500000              0.02000000  0.0500000 0         \n",
       "6 19             154.216667              0.01578947  0.0245614 0         \n",
       "  SpecialDay Month OperatingSystems Browser Region TrafficType\n",
       "1 0          Feb   1                1       1      1          \n",
       "2 0          Feb   2                2       1      2          \n",
       "3 0          Feb   4                1       9      3          \n",
       "4 0          Feb   3                2       2      4          \n",
       "5 0          Feb   3                3       1      4          \n",
       "6 0          Feb   2                2       1      3          \n",
       "  VisitorType       Weekend Revenue\n",
       "1 Returning_Visitor FALSE   FALSE  \n",
       "2 Returning_Visitor FALSE   FALSE  \n",
       "3 Returning_Visitor FALSE   FALSE  \n",
       "4 Returning_Visitor FALSE   FALSE  \n",
       "5 Returning_Visitor  TRUE   FALSE  \n",
       "6 Returning_Visitor FALSE   FALSE  "
      ]
     },
     "metadata": {},
     "output_type": "display_data"
    }
   ],
   "source": [
    "# Visualizar as seis primeiras linhas do dataset\n",
    "head(df_shoppers)"
   ]
  },
  {
   "cell_type": "code",
   "execution_count": 5,
   "id": "technical-abuse",
   "metadata": {},
   "outputs": [
    {
     "data": {
      "text/html": [
       "<table>\n",
       "<thead><tr><th></th><th scope=col>Administrative</th><th scope=col>Administrative_Duration</th><th scope=col>Informational</th><th scope=col>Informational_Duration</th><th scope=col>ProductRelated</th><th scope=col>ProductRelated_Duration</th><th scope=col>BounceRates</th><th scope=col>ExitRates</th><th scope=col>PageValues</th><th scope=col>SpecialDay</th><th scope=col>Month</th><th scope=col>OperatingSystems</th><th scope=col>Browser</th><th scope=col>Region</th><th scope=col>TrafficType</th><th scope=col>VisitorType</th><th scope=col>Weekend</th><th scope=col>Revenue</th></tr></thead>\n",
       "<tbody>\n",
       "\t<tr><th scope=row>12325</th><td>0                </td><td>  0              </td><td>1                </td><td>0                </td><td>16               </td><td> 503.000         </td><td>0.000000000      </td><td>0.03764706       </td><td> 0.00000         </td><td>0                </td><td>Nov              </td><td>2                </td><td>2                </td><td>1                </td><td> 1               </td><td>Returning_Visitor</td><td>FALSE            </td><td>FALSE            </td></tr>\n",
       "\t<tr><th scope=row>12326</th><td>3                </td><td>145              </td><td>0                </td><td>0                </td><td>53               </td><td>1783.792         </td><td>0.007142857      </td><td>0.02903061       </td><td>12.24172         </td><td>0                </td><td>Dec              </td><td>4                </td><td>6                </td><td>1                </td><td> 1               </td><td>Returning_Visitor</td><td> TRUE            </td><td>FALSE            </td></tr>\n",
       "\t<tr><th scope=row>12327</th><td>0                </td><td>  0              </td><td>0                </td><td>0                </td><td> 5               </td><td> 465.750         </td><td>0.000000000      </td><td>0.02133333       </td><td> 0.00000         </td><td>0                </td><td>Nov              </td><td>3                </td><td>2                </td><td>1                </td><td> 8               </td><td>Returning_Visitor</td><td> TRUE            </td><td>FALSE            </td></tr>\n",
       "\t<tr><th scope=row>12328</th><td>0                </td><td>  0              </td><td>0                </td><td>0                </td><td> 6               </td><td> 184.250         </td><td>0.083333333      </td><td>0.08666667       </td><td> 0.00000         </td><td>0                </td><td>Nov              </td><td>3                </td><td>2                </td><td>1                </td><td>13               </td><td>Returning_Visitor</td><td> TRUE            </td><td>FALSE            </td></tr>\n",
       "\t<tr><th scope=row>12329</th><td>4                </td><td> 75              </td><td>0                </td><td>0                </td><td>15               </td><td> 346.000         </td><td>0.000000000      </td><td>0.02105263       </td><td> 0.00000         </td><td>0                </td><td>Nov              </td><td>2                </td><td>2                </td><td>3                </td><td>11               </td><td>Returning_Visitor</td><td>FALSE            </td><td>FALSE            </td></tr>\n",
       "\t<tr><th scope=row>12330</th><td>0                </td><td>  0              </td><td>0                </td><td>0                </td><td> 3               </td><td>  21.250         </td><td>0.000000000      </td><td>0.06666667       </td><td> 0.00000         </td><td>0                </td><td>Nov              </td><td>3                </td><td>2                </td><td>1                </td><td> 2               </td><td>New_Visitor      </td><td> TRUE            </td><td>FALSE            </td></tr>\n",
       "</tbody>\n",
       "</table>\n"
      ],
      "text/latex": [
       "\\begin{tabular}{r|llllllllllllllllll}\n",
       "  & Administrative & Administrative\\_Duration & Informational & Informational\\_Duration & ProductRelated & ProductRelated\\_Duration & BounceRates & ExitRates & PageValues & SpecialDay & Month & OperatingSystems & Browser & Region & TrafficType & VisitorType & Weekend & Revenue\\\\\n",
       "\\hline\n",
       "\t12325 & 0                   &   0                 & 1                   & 0                   & 16                  &  503.000            & 0.000000000         & 0.03764706          &  0.00000            & 0                   & Nov                 & 2                   & 2                   & 1                   &  1                  & Returning\\_Visitor & FALSE               & FALSE              \\\\\n",
       "\t12326 & 3                   & 145                 & 0                   & 0                   & 53                  & 1783.792            & 0.007142857         & 0.02903061          & 12.24172            & 0                   & Dec                 & 4                   & 6                   & 1                   &  1                  & Returning\\_Visitor &  TRUE               & FALSE              \\\\\n",
       "\t12327 & 0                   &   0                 & 0                   & 0                   &  5                  &  465.750            & 0.000000000         & 0.02133333          &  0.00000            & 0                   & Nov                 & 3                   & 2                   & 1                   &  8                  & Returning\\_Visitor &  TRUE               & FALSE              \\\\\n",
       "\t12328 & 0                   &   0                 & 0                   & 0                   &  6                  &  184.250            & 0.083333333         & 0.08666667          &  0.00000            & 0                   & Nov                 & 3                   & 2                   & 1                   & 13                  & Returning\\_Visitor &  TRUE               & FALSE              \\\\\n",
       "\t12329 & 4                   &  75                 & 0                   & 0                   & 15                  &  346.000            & 0.000000000         & 0.02105263          &  0.00000            & 0                   & Nov                 & 2                   & 2                   & 3                   & 11                  & Returning\\_Visitor & FALSE               & FALSE              \\\\\n",
       "\t12330 & 0                   &   0                 & 0                   & 0                   &  3                  &   21.250            & 0.000000000         & 0.06666667          &  0.00000            & 0                   & Nov                 & 3                   & 2                   & 1                   &  2                  & New\\_Visitor       &  TRUE               & FALSE              \\\\\n",
       "\\end{tabular}\n"
      ],
      "text/markdown": [
       "\n",
       "| <!--/--> | Administrative | Administrative_Duration | Informational | Informational_Duration | ProductRelated | ProductRelated_Duration | BounceRates | ExitRates | PageValues | SpecialDay | Month | OperatingSystems | Browser | Region | TrafficType | VisitorType | Weekend | Revenue |\n",
       "|---|---|---|---|---|---|---|---|---|---|---|---|---|---|---|---|---|---|---|\n",
       "| 12325 | 0                 |   0               | 1                 | 0                 | 16                |  503.000          | 0.000000000       | 0.03764706        |  0.00000          | 0                 | Nov               | 2                 | 2                 | 1                 |  1                | Returning_Visitor | FALSE             | FALSE             |\n",
       "| 12326 | 3                 | 145               | 0                 | 0                 | 53                | 1783.792          | 0.007142857       | 0.02903061        | 12.24172          | 0                 | Dec               | 4                 | 6                 | 1                 |  1                | Returning_Visitor |  TRUE             | FALSE             |\n",
       "| 12327 | 0                 |   0               | 0                 | 0                 |  5                |  465.750          | 0.000000000       | 0.02133333        |  0.00000          | 0                 | Nov               | 3                 | 2                 | 1                 |  8                | Returning_Visitor |  TRUE             | FALSE             |\n",
       "| 12328 | 0                 |   0               | 0                 | 0                 |  6                |  184.250          | 0.083333333       | 0.08666667        |  0.00000          | 0                 | Nov               | 3                 | 2                 | 1                 | 13                | Returning_Visitor |  TRUE             | FALSE             |\n",
       "| 12329 | 4                 |  75               | 0                 | 0                 | 15                |  346.000          | 0.000000000       | 0.02105263        |  0.00000          | 0                 | Nov               | 2                 | 2                 | 3                 | 11                | Returning_Visitor | FALSE             | FALSE             |\n",
       "| 12330 | 0                 |   0               | 0                 | 0                 |  3                |   21.250          | 0.000000000       | 0.06666667        |  0.00000          | 0                 | Nov               | 3                 | 2                 | 1                 |  2                | New_Visitor       |  TRUE             | FALSE             |\n",
       "\n"
      ],
      "text/plain": [
       "      Administrative Administrative_Duration Informational\n",
       "12325 0                0                     1            \n",
       "12326 3              145                     0            \n",
       "12327 0                0                     0            \n",
       "12328 0                0                     0            \n",
       "12329 4               75                     0            \n",
       "12330 0                0                     0            \n",
       "      Informational_Duration ProductRelated ProductRelated_Duration BounceRates\n",
       "12325 0                      16              503.000                0.000000000\n",
       "12326 0                      53             1783.792                0.007142857\n",
       "12327 0                       5              465.750                0.000000000\n",
       "12328 0                       6              184.250                0.083333333\n",
       "12329 0                      15              346.000                0.000000000\n",
       "12330 0                       3               21.250                0.000000000\n",
       "      ExitRates  PageValues SpecialDay Month OperatingSystems Browser Region\n",
       "12325 0.03764706  0.00000   0          Nov   2                2       1     \n",
       "12326 0.02903061 12.24172   0          Dec   4                6       1     \n",
       "12327 0.02133333  0.00000   0          Nov   3                2       1     \n",
       "12328 0.08666667  0.00000   0          Nov   3                2       1     \n",
       "12329 0.02105263  0.00000   0          Nov   2                2       3     \n",
       "12330 0.06666667  0.00000   0          Nov   3                2       1     \n",
       "      TrafficType VisitorType       Weekend Revenue\n",
       "12325  1          Returning_Visitor FALSE   FALSE  \n",
       "12326  1          Returning_Visitor  TRUE   FALSE  \n",
       "12327  8          Returning_Visitor  TRUE   FALSE  \n",
       "12328 13          Returning_Visitor  TRUE   FALSE  \n",
       "12329 11          Returning_Visitor FALSE   FALSE  \n",
       "12330  2          New_Visitor        TRUE   FALSE  "
      ]
     },
     "metadata": {},
     "output_type": "display_data"
    }
   ],
   "source": [
    "# Visualizar as seis últimas linhas do dataset\n",
    "tail(df_shoppers)"
   ]
  },
  {
   "cell_type": "code",
   "execution_count": 6,
   "id": "placed-eleven",
   "metadata": {},
   "outputs": [
    {
     "name": "stdout",
     "output_type": "stream",
     "text": [
      "Rows: 12,330\n",
      "Columns: 18\n",
      "$ Administrative          <int> 0, 0, 0, 0, 0, 0, 0, 1, 0, 0, 0, 0, 0, 0, 0, 2~\n",
      "$ Administrative_Duration <dbl> 0, 0, -1, 0, 0, 0, -1, -1, 0, 0, 0, 0, 0, 0, 0~\n",
      "$ Informational           <int> 0, 0, 0, 0, 0, 0, 0, 0, 0, 0, 0, 0, 0, 0, 0, 0~\n",
      "$ Informational_Duration  <dbl> 0, 0, -1, 0, 0, 0, -1, -1, 0, 0, 0, 0, 0, 0, 0~\n",
      "$ ProductRelated          <int> 1, 2, 1, 2, 10, 19, 1, 1, 2, 3, 3, 16, 7, 6, 2~\n",
      "$ ProductRelated_Duration <dbl> 0.000000, 64.000000, -1.000000, 2.666667, 627.~\n",
      "$ BounceRates             <dbl> 0.200000000, 0.000000000, 0.200000000, 0.05000~\n",
      "$ ExitRates               <dbl> 0.200000000, 0.100000000, 0.200000000, 0.14000~\n",
      "$ PageValues              <dbl> 0, 0, 0, 0, 0, 0, 0, 0, 0, 0, 0, 0, 0, 0, 0, 0~\n",
      "$ SpecialDay              <dbl> 0.0, 0.0, 0.0, 0.0, 0.0, 0.0, 0.4, 0.0, 0.8, 0~\n",
      "$ Month                   <fct> Feb, Feb, Feb, Feb, Feb, Feb, Feb, Feb, Feb, F~\n",
      "$ OperatingSystems        <int> 1, 2, 4, 3, 3, 2, 2, 1, 2, 2, 1, 1, 1, 2, 3, 1~\n",
      "$ Browser                 <int> 1, 2, 1, 2, 3, 2, 4, 2, 2, 4, 1, 1, 1, 5, 2, 1~\n",
      "$ Region                  <int> 1, 1, 9, 2, 1, 1, 3, 1, 2, 1, 3, 4, 1, 1, 3, 9~\n",
      "$ TrafficType             <int> 1, 2, 3, 4, 4, 3, 3, 5, 3, 2, 3, 3, 3, 3, 3, 3~\n",
      "$ VisitorType             <fct> Returning_Visitor, Returning_Visitor, Returnin~\n",
      "$ Weekend                 <lgl> FALSE, FALSE, FALSE, FALSE, TRUE, FALSE, FALSE~\n",
      "$ Revenue                 <lgl> FALSE, FALSE, FALSE, FALSE, FALSE, FALSE, FALS~\n"
     ]
    }
   ],
   "source": [
    "# Visão geral dos dados\n",
    "glimpse(df_shoppers)"
   ]
  },
  {
   "cell_type": "code",
   "execution_count": 7,
   "id": "automatic-lunch",
   "metadata": {},
   "outputs": [
    {
     "data": {
      "text/html": [
       "<dl class=dl-horizontal>\n",
       "\t<dt>Administrative</dt>\n",
       "\t\t<dd>14</dd>\n",
       "\t<dt>Administrative_Duration</dt>\n",
       "\t\t<dd>14</dd>\n",
       "\t<dt>Informational</dt>\n",
       "\t\t<dd>14</dd>\n",
       "\t<dt>Informational_Duration</dt>\n",
       "\t\t<dd>14</dd>\n",
       "\t<dt>ProductRelated</dt>\n",
       "\t\t<dd>14</dd>\n",
       "\t<dt>ProductRelated_Duration</dt>\n",
       "\t\t<dd>14</dd>\n",
       "\t<dt>BounceRates</dt>\n",
       "\t\t<dd>14</dd>\n",
       "\t<dt>ExitRates</dt>\n",
       "\t\t<dd>14</dd>\n",
       "\t<dt>PageValues</dt>\n",
       "\t\t<dd>0</dd>\n",
       "\t<dt>SpecialDay</dt>\n",
       "\t\t<dd>0</dd>\n",
       "\t<dt>Month</dt>\n",
       "\t\t<dd>0</dd>\n",
       "\t<dt>OperatingSystems</dt>\n",
       "\t\t<dd>0</dd>\n",
       "\t<dt>Browser</dt>\n",
       "\t\t<dd>0</dd>\n",
       "\t<dt>Region</dt>\n",
       "\t\t<dd>0</dd>\n",
       "\t<dt>TrafficType</dt>\n",
       "\t\t<dd>0</dd>\n",
       "\t<dt>VisitorType</dt>\n",
       "\t\t<dd>0</dd>\n",
       "\t<dt>Weekend</dt>\n",
       "\t\t<dd>0</dd>\n",
       "\t<dt>Revenue</dt>\n",
       "\t\t<dd>0</dd>\n",
       "</dl>\n"
      ],
      "text/latex": [
       "\\begin{description*}\n",
       "\\item[Administrative] 14\n",
       "\\item[Administrative\\textbackslash{}\\_Duration] 14\n",
       "\\item[Informational] 14\n",
       "\\item[Informational\\textbackslash{}\\_Duration] 14\n",
       "\\item[ProductRelated] 14\n",
       "\\item[ProductRelated\\textbackslash{}\\_Duration] 14\n",
       "\\item[BounceRates] 14\n",
       "\\item[ExitRates] 14\n",
       "\\item[PageValues] 0\n",
       "\\item[SpecialDay] 0\n",
       "\\item[Month] 0\n",
       "\\item[OperatingSystems] 0\n",
       "\\item[Browser] 0\n",
       "\\item[Region] 0\n",
       "\\item[TrafficType] 0\n",
       "\\item[VisitorType] 0\n",
       "\\item[Weekend] 0\n",
       "\\item[Revenue] 0\n",
       "\\end{description*}\n"
      ],
      "text/markdown": [
       "Administrative\n",
       ":   14Administrative_Duration\n",
       ":   14Informational\n",
       ":   14Informational_Duration\n",
       ":   14ProductRelated\n",
       ":   14ProductRelated_Duration\n",
       ":   14BounceRates\n",
       ":   14ExitRates\n",
       ":   14PageValues\n",
       ":   0SpecialDay\n",
       ":   0Month\n",
       ":   0OperatingSystems\n",
       ":   0Browser\n",
       ":   0Region\n",
       ":   0TrafficType\n",
       ":   0VisitorType\n",
       ":   0Weekend\n",
       ":   0Revenue\n",
       ":   0\n",
       "\n"
      ],
      "text/plain": [
       "         Administrative Administrative_Duration           Informational \n",
       "                     14                      14                      14 \n",
       " Informational_Duration          ProductRelated ProductRelated_Duration \n",
       "                     14                      14                      14 \n",
       "            BounceRates               ExitRates              PageValues \n",
       "                     14                      14                       0 \n",
       "             SpecialDay                   Month        OperatingSystems \n",
       "                      0                       0                       0 \n",
       "                Browser                  Region             TrafficType \n",
       "                      0                       0                       0 \n",
       "            VisitorType                 Weekend                 Revenue \n",
       "                      0                       0                       0 "
      ]
     },
     "metadata": {},
     "output_type": "display_data"
    }
   ],
   "source": [
    "# Checar NAs\n",
    "sapply(df_shoppers,function(x) sum(is.na(x)))"
   ]
  },
  {
   "cell_type": "markdown",
   "id": "regular-sleeping",
   "metadata": {},
   "source": [
    "## 2. TRANSFORMAÇÃO DOS DADOS"
   ]
  },
  {
   "cell_type": "code",
   "execution_count": 8,
   "id": "amazing-barcelona",
   "metadata": {},
   "outputs": [],
   "source": [
    "# Tratando NAs\n",
    "df_shoppers<- na.omit(df_shoppers)"
   ]
  },
  {
   "cell_type": "code",
   "execution_count": 9,
   "id": "threaded-retreat",
   "metadata": {},
   "outputs": [
    {
     "data": {
      "text/html": [
       "<dl class=dl-horizontal>\n",
       "\t<dt>Administrative</dt>\n",
       "\t\t<dd>0</dd>\n",
       "\t<dt>Administrative_Duration</dt>\n",
       "\t\t<dd>0</dd>\n",
       "\t<dt>Informational</dt>\n",
       "\t\t<dd>0</dd>\n",
       "\t<dt>Informational_Duration</dt>\n",
       "\t\t<dd>0</dd>\n",
       "\t<dt>ProductRelated</dt>\n",
       "\t\t<dd>0</dd>\n",
       "\t<dt>ProductRelated_Duration</dt>\n",
       "\t\t<dd>0</dd>\n",
       "\t<dt>BounceRates</dt>\n",
       "\t\t<dd>0</dd>\n",
       "\t<dt>ExitRates</dt>\n",
       "\t\t<dd>0</dd>\n",
       "\t<dt>PageValues</dt>\n",
       "\t\t<dd>0</dd>\n",
       "\t<dt>SpecialDay</dt>\n",
       "\t\t<dd>0</dd>\n",
       "\t<dt>Month</dt>\n",
       "\t\t<dd>0</dd>\n",
       "\t<dt>OperatingSystems</dt>\n",
       "\t\t<dd>0</dd>\n",
       "\t<dt>Browser</dt>\n",
       "\t\t<dd>0</dd>\n",
       "\t<dt>Region</dt>\n",
       "\t\t<dd>0</dd>\n",
       "\t<dt>TrafficType</dt>\n",
       "\t\t<dd>0</dd>\n",
       "\t<dt>VisitorType</dt>\n",
       "\t\t<dd>0</dd>\n",
       "\t<dt>Weekend</dt>\n",
       "\t\t<dd>0</dd>\n",
       "\t<dt>Revenue</dt>\n",
       "\t\t<dd>0</dd>\n",
       "</dl>\n"
      ],
      "text/latex": [
       "\\begin{description*}\n",
       "\\item[Administrative] 0\n",
       "\\item[Administrative\\textbackslash{}\\_Duration] 0\n",
       "\\item[Informational] 0\n",
       "\\item[Informational\\textbackslash{}\\_Duration] 0\n",
       "\\item[ProductRelated] 0\n",
       "\\item[ProductRelated\\textbackslash{}\\_Duration] 0\n",
       "\\item[BounceRates] 0\n",
       "\\item[ExitRates] 0\n",
       "\\item[PageValues] 0\n",
       "\\item[SpecialDay] 0\n",
       "\\item[Month] 0\n",
       "\\item[OperatingSystems] 0\n",
       "\\item[Browser] 0\n",
       "\\item[Region] 0\n",
       "\\item[TrafficType] 0\n",
       "\\item[VisitorType] 0\n",
       "\\item[Weekend] 0\n",
       "\\item[Revenue] 0\n",
       "\\end{description*}\n"
      ],
      "text/markdown": [
       "Administrative\n",
       ":   0Administrative_Duration\n",
       ":   0Informational\n",
       ":   0Informational_Duration\n",
       ":   0ProductRelated\n",
       ":   0ProductRelated_Duration\n",
       ":   0BounceRates\n",
       ":   0ExitRates\n",
       ":   0PageValues\n",
       ":   0SpecialDay\n",
       ":   0Month\n",
       ":   0OperatingSystems\n",
       ":   0Browser\n",
       ":   0Region\n",
       ":   0TrafficType\n",
       ":   0VisitorType\n",
       ":   0Weekend\n",
       ":   0Revenue\n",
       ":   0\n",
       "\n"
      ],
      "text/plain": [
       "         Administrative Administrative_Duration           Informational \n",
       "                      0                       0                       0 \n",
       " Informational_Duration          ProductRelated ProductRelated_Duration \n",
       "                      0                       0                       0 \n",
       "            BounceRates               ExitRates              PageValues \n",
       "                      0                       0                       0 \n",
       "             SpecialDay                   Month        OperatingSystems \n",
       "                      0                       0                       0 \n",
       "                Browser                  Region             TrafficType \n",
       "                      0                       0                       0 \n",
       "            VisitorType                 Weekend                 Revenue \n",
       "                      0                       0                       0 "
      ]
     },
     "metadata": {},
     "output_type": "display_data"
    }
   ],
   "source": [
    "# Checando NAs\n",
    "sapply(df_shoppers, function(x) sum(is.na(x)))"
   ]
  },
  {
   "cell_type": "code",
   "execution_count": 10,
   "id": "honest-starter",
   "metadata": {},
   "outputs": [],
   "source": [
    "# Transformando variável Month e VisitorType em numérica\n",
    "encode_ordinal <- function(x, order = unique(x)) {\n",
    "  x <- as.numeric(factor(x, levels = order, exclude = NULL))\n",
    "  x\n",
    "}"
   ]
  },
  {
   "cell_type": "code",
   "execution_count": 11,
   "id": "burning-edinburgh",
   "metadata": {},
   "outputs": [],
   "source": [
    "# Aplicando enconding \n",
    "df_shoppers$Month<- encode_ordinal(df_shoppers$Month)\n",
    "df_shoppers$VisitorType<- encode_ordinal(df_shoppers$VisitorType)"
   ]
  },
  {
   "cell_type": "code",
   "execution_count": 12,
   "id": "integral-douglas",
   "metadata": {},
   "outputs": [],
   "source": [
    "# Transformando variáveis categóricas em fatores\n",
    "to.factors <- function(df, variables){\n",
    "  for (variable in variables){\n",
    "    df[[variable]] <- as.factor(paste(df[[variable]]))\n",
    "  }\n",
    "  return(df)\n",
    "}"
   ]
  },
  {
   "cell_type": "code",
   "execution_count": 13,
   "id": "higher-skirt",
   "metadata": {},
   "outputs": [],
   "source": [
    "# Selecionando as variáveis categóricas\n",
    "categorical.vars <- c('Administrative','Informational','SpecialDay','Month',\n",
    "                      'OperatingSystems','Browser','Region','TrafficType',\n",
    "                      'VisitorType','Weekend','Revenue')"
   ]
  },
  {
   "cell_type": "code",
   "execution_count": 14,
   "id": "center-bobby",
   "metadata": {},
   "outputs": [],
   "source": [
    "# Fatorizando as variáveis categóricas\n",
    "df_shoppers <- to.factors(df = df_shoppers, variables = categorical.vars)\n"
   ]
  },
  {
   "cell_type": "code",
   "execution_count": 15,
   "id": "lonely-brief",
   "metadata": {},
   "outputs": [
    {
     "name": "stdout",
     "output_type": "stream",
     "text": [
      "Rows: 12,316\n",
      "Columns: 18\n",
      "$ Administrative          <fct> 0, 0, 0, 0, 0, 0, 0, 1, 0, 0, 0, 0, 0, 0, 0, 2~\n",
      "$ Administrative_Duration <dbl> 0, 0, -1, 0, 0, 0, -1, -1, 0, 0, 0, 0, 0, 0, 0~\n",
      "$ Informational           <fct> 0, 0, 0, 0, 0, 0, 0, 0, 0, 0, 0, 0, 0, 0, 0, 0~\n",
      "$ Informational_Duration  <dbl> 0, 0, -1, 0, 0, 0, -1, -1, 0, 0, 0, 0, 0, 0, 0~\n",
      "$ ProductRelated          <int> 1, 2, 1, 2, 10, 19, 1, 1, 2, 3, 3, 16, 7, 6, 2~\n",
      "$ ProductRelated_Duration <dbl> 0.000000, 64.000000, -1.000000, 2.666667, 627.~\n",
      "$ BounceRates             <dbl> 0.200000000, 0.000000000, 0.200000000, 0.05000~\n",
      "$ ExitRates               <dbl> 0.200000000, 0.100000000, 0.200000000, 0.14000~\n",
      "$ PageValues              <dbl> 0, 0, 0, 0, 0, 0, 0, 0, 0, 0, 0, 0, 0, 0, 0, 0~\n",
      "$ SpecialDay              <fct> 0, 0, 0, 0, 0, 0, 0.4, 0, 0.8, 0.4, 0, 0.4, 0,~\n",
      "$ Month                   <fct> 1, 1, 1, 1, 1, 1, 1, 1, 1, 1, 1, 1, 1, 1, 1, 1~\n",
      "$ OperatingSystems        <fct> 1, 2, 4, 3, 3, 2, 2, 1, 2, 2, 1, 1, 1, 2, 3, 1~\n",
      "$ Browser                 <fct> 1, 2, 1, 2, 3, 2, 4, 2, 2, 4, 1, 1, 1, 5, 2, 1~\n",
      "$ Region                  <fct> 1, 1, 9, 2, 1, 1, 3, 1, 2, 1, 3, 4, 1, 1, 3, 9~\n",
      "$ TrafficType             <fct> 1, 2, 3, 4, 4, 3, 3, 5, 3, 2, 3, 3, 3, 3, 3, 3~\n",
      "$ VisitorType             <fct> 1, 1, 1, 1, 1, 1, 1, 1, 1, 1, 1, 1, 1, 1, 1, 1~\n",
      "$ Weekend                 <fct> FALSE, FALSE, FALSE, FALSE, TRUE, FALSE, FALSE~\n",
      "$ Revenue                 <fct> FALSE, FALSE, FALSE, FALSE, FALSE, FALSE, FALS~\n"
     ]
    }
   ],
   "source": [
    "# Visualizando os dados\n",
    "glimpse(df_shoppers)"
   ]
  },
  {
   "cell_type": "markdown",
   "id": "minus-reception",
   "metadata": {},
   "source": [
    "## 3. MODELO MACHINE LEARNING"
   ]
  },
  {
   "cell_type": "code",
   "execution_count": 16,
   "id": "revolutionary-graham",
   "metadata": {},
   "outputs": [],
   "source": [
    "# Split do dataset em treino e teste\n",
    "indxTrain <- createDataPartition(y = df_shoppers$Revenue, p = 0.75, list = FALSE)\n",
    "dados_treino <- df_shoppers[indxTrain,]\n",
    "dados_teste <- df_shoppers[-indxTrain,]"
   ]
  },
  {
   "cell_type": "code",
   "execution_count": 17,
   "id": "starting-rainbow",
   "metadata": {},
   "outputs": [
    {
     "data": {
      "text/plain": [
       "\n",
       "   FALSE     TRUE \n",
       "84.50796 15.49204 "
      ]
     },
     "metadata": {},
     "output_type": "display_data"
    }
   ],
   "source": [
    "# Checando o balanceamento de classe da variável dependente\n",
    "prop.table(table(dados_treino$Revenue)) * 100"
   ]
  },
  {
   "cell_type": "code",
   "execution_count": 18,
   "id": "accompanied-development",
   "metadata": {},
   "outputs": [],
   "source": [
    "# Aplicando balanceamento\n",
    "dados_treino_balanceados <- SMOTE(Revenue ~ ., dados_treino, perc.over = 3000, perc.under = 200)"
   ]
  },
  {
   "cell_type": "markdown",
   "id": "essential-yellow",
   "metadata": {},
   "source": [
    "### Modelo 1"
   ]
  },
  {
   "cell_type": "code",
   "execution_count": 19,
   "id": "competent-valve",
   "metadata": {},
   "outputs": [],
   "source": [
    "# Construindo modelo 1\n",
    "modelo_v1 <- svm(Revenue ~ ., data = dados_treino)"
   ]
  },
  {
   "cell_type": "code",
   "execution_count": 20,
   "id": "conditional-portfolio",
   "metadata": {},
   "outputs": [
    {
     "data": {
      "text/plain": [
       "\n",
       "Call:\n",
       "svm(formula = Revenue ~ ., data = dados_treino)\n",
       "\n",
       "\n",
       "Parameters:\n",
       "   SVM-Type:  C-classification \n",
       " SVM-Kernel:  radial \n",
       "       cost:  1 \n",
       "\n",
       "Number of Support Vectors:  2306\n",
       "\n",
       " ( 1201 1105 )\n",
       "\n",
       "\n",
       "Number of Classes:  2 \n",
       "\n",
       "Levels: \n",
       " FALSE TRUE\n",
       "\n",
       "\n"
      ]
     },
     "metadata": {},
     "output_type": "display_data"
    }
   ],
   "source": [
    "# Sumário do modelo 1\n",
    "summary(modelo_v1)"
   ]
  },
  {
   "cell_type": "code",
   "execution_count": 21,
   "id": "polar-point",
   "metadata": {},
   "outputs": [],
   "source": [
    "# Fazendo previsões\n",
    "previsoes_v1 <- predict(modelo_v1, dados_teste)"
   ]
  },
  {
   "cell_type": "code",
   "execution_count": 22,
   "id": "inclusive-promotion",
   "metadata": {},
   "outputs": [
    {
     "name": "stdout",
     "output_type": "stream",
     "text": [
      "Confusion Matrix and Statistics\n",
      "\n",
      "          Reference\n",
      "Prediction FALSE TRUE\n",
      "     FALSE  2517  279\n",
      "     TRUE     85  198\n",
      "                                         \n",
      "               Accuracy : 0.8818         \n",
      "                 95% CI : (0.8698, 0.893)\n",
      "    No Information Rate : 0.8451         \n",
      "    P-Value [Acc > NIR] : 3.331e-09      \n",
      "                                         \n",
      "                  Kappa : 0.4586         \n",
      "                                         \n",
      " Mcnemar's Test P-Value : < 2.2e-16      \n",
      "                                         \n",
      "            Sensitivity : 0.9673         \n",
      "            Specificity : 0.4151         \n",
      "         Pos Pred Value : 0.9002         \n",
      "         Neg Pred Value : 0.6996         \n",
      "             Prevalence : 0.8451         \n",
      "         Detection Rate : 0.8175         \n",
      "   Detection Prevalence : 0.9081         \n",
      "      Balanced Accuracy : 0.6912         \n",
      "                                         \n",
      "       'Positive' Class : FALSE          \n",
      "                                         \n"
     ]
    }
   ],
   "source": [
    "# Matriz de confusão\n",
    "print(resultados_v1<-confusionMatrix(previsoes_v1, dados_teste$Revenue))"
   ]
  },
  {
   "cell_type": "code",
   "execution_count": 23,
   "id": "elder-citizen",
   "metadata": {},
   "outputs": [
    {
     "name": "stderr",
     "output_type": "stream",
     "text": [
      "Setting direction: controls < cases\n"
     ]
    },
    {
     "data": {
      "text/html": [
       "0.691213580264818"
      ],
      "text/latex": [
       "0.691213580264818"
      ],
      "text/markdown": [
       "0.691213580264818"
      ],
      "text/plain": [
       "Multi-class area under the curve: 0.6912"
      ]
     },
     "metadata": {},
     "output_type": "display_data"
    }
   ],
   "source": [
    "# Score AUC modelo 1\n",
    "curva_roc1 <- multiclass.roc(response = dados_teste$Revenue, predictor = as.numeric(as.factor(previsoes_v1)))\n",
    "curva_roc1$auc"
   ]
  },
  {
   "cell_type": "markdown",
   "id": "indian-quest",
   "metadata": {},
   "source": [
    "### Modelo 2"
   ]
  },
  {
   "cell_type": "code",
   "execution_count": 24,
   "id": "rocky-marker",
   "metadata": {},
   "outputs": [],
   "source": [
    "# Construindo modelo 2\n",
    "modelo_v2 <- svm(Revenue ~ ., data = dados_treino_balanceados)"
   ]
  },
  {
   "cell_type": "code",
   "execution_count": 25,
   "id": "caroline-second",
   "metadata": {},
   "outputs": [
    {
     "data": {
      "text/plain": [
       "\n",
       "Call:\n",
       "svm(formula = Revenue ~ ., data = dados_treino_balanceados)\n",
       "\n",
       "\n",
       "Parameters:\n",
       "   SVM-Type:  C-classification \n",
       " SVM-Kernel:  radial \n",
       "       cost:  1 \n",
       "\n",
       "Number of Support Vectors:  34365\n",
       "\n",
       " ( 17352 17013 )\n",
       "\n",
       "\n",
       "Number of Classes:  2 \n",
       "\n",
       "Levels: \n",
       " FALSE TRUE\n",
       "\n",
       "\n"
      ]
     },
     "metadata": {},
     "output_type": "display_data"
    }
   ],
   "source": [
    "# Sumário modelo 2\n",
    "summary(modelo_v2)"
   ]
  },
  {
   "cell_type": "code",
   "execution_count": 26,
   "id": "enhanced-parliament",
   "metadata": {},
   "outputs": [],
   "source": [
    "# Fazendo previsões\n",
    "previsoes_v2<- predict(modelo_v2,dados_teste)"
   ]
  },
  {
   "cell_type": "code",
   "execution_count": 27,
   "id": "original-columbus",
   "metadata": {},
   "outputs": [
    {
     "name": "stdout",
     "output_type": "stream",
     "text": [
      "Confusion Matrix and Statistics\n",
      "\n",
      "          Reference\n",
      "Prediction FALSE TRUE\n",
      "     FALSE  2430  214\n",
      "     TRUE    172  263\n",
      "                                          \n",
      "               Accuracy : 0.8746          \n",
      "                 95% CI : (0.8624, 0.8861)\n",
      "    No Information Rate : 0.8451          \n",
      "    P-Value [Acc > NIR] : 1.836e-06       \n",
      "                                          \n",
      "                  Kappa : 0.5034          \n",
      "                                          \n",
      " Mcnemar's Test P-Value : 0.0369          \n",
      "                                          \n",
      "            Sensitivity : 0.9339          \n",
      "            Specificity : 0.5514          \n",
      "         Pos Pred Value : 0.9191          \n",
      "         Neg Pred Value : 0.6046          \n",
      "             Prevalence : 0.8451          \n",
      "         Detection Rate : 0.7892          \n",
      "   Detection Prevalence : 0.8587          \n",
      "      Balanced Accuracy : 0.7426          \n",
      "                                          \n",
      "       'Positive' Class : FALSE           \n",
      "                                          \n"
     ]
    }
   ],
   "source": [
    "# Matriz de confusão\n",
    "print(resultados_v2<-confusionMatrix(previsoes_v2, dados_teste$Revenue))"
   ]
  },
  {
   "cell_type": "code",
   "execution_count": 28,
   "id": "separated-belize",
   "metadata": {},
   "outputs": [
    {
     "name": "stderr",
     "output_type": "stream",
     "text": [
      "Setting direction: controls < cases\n"
     ]
    },
    {
     "data": {
      "text/html": [
       "0.742629842872037"
      ],
      "text/latex": [
       "0.742629842872037"
      ],
      "text/markdown": [
       "0.742629842872037"
      ],
      "text/plain": [
       "Multi-class area under the curve: 0.7426"
      ]
     },
     "metadata": {},
     "output_type": "display_data"
    }
   ],
   "source": [
    "# Score AUC modelo 2\n",
    "curva_roc2 <- multiclass.roc(response = dados_teste$Revenue, predictor = as.numeric(as.factor(previsoes_v2)))\n",
    "curva_roc2$auc"
   ]
  },
  {
   "cell_type": "markdown",
   "id": "delayed-perth",
   "metadata": {},
   "source": [
    "### Modelo 3"
   ]
  },
  {
   "cell_type": "code",
   "execution_count": 31,
   "id": "legendary-stanford",
   "metadata": {},
   "outputs": [],
   "source": [
    "# Construindo modelo 2\n",
    "modelo_v3 <- svm(Revenue ~ ., data = dados_treino_balanceados,\n",
    "                kernel = 'linear')"
   ]
  },
  {
   "cell_type": "code",
   "execution_count": 32,
   "id": "humanitarian-customs",
   "metadata": {},
   "outputs": [
    {
     "data": {
      "text/plain": [
       "\n",
       "Call:\n",
       "svm(formula = Revenue ~ ., data = dados_treino_balanceados, kernel = \"linear\")\n",
       "\n",
       "\n",
       "Parameters:\n",
       "   SVM-Type:  C-classification \n",
       " SVM-Kernel:  linear \n",
       "       cost:  1 \n",
       "\n",
       "Number of Support Vectors:  38621\n",
       "\n",
       " ( 19407 19214 )\n",
       "\n",
       "\n",
       "Number of Classes:  2 \n",
       "\n",
       "Levels: \n",
       " FALSE TRUE\n",
       "\n",
       "\n"
      ]
     },
     "metadata": {},
     "output_type": "display_data"
    }
   ],
   "source": [
    "summary(modelo_v3)"
   ]
  },
  {
   "cell_type": "code",
   "execution_count": 33,
   "id": "structured-poster",
   "metadata": {},
   "outputs": [],
   "source": [
    "# Previsões modelo 3\n",
    "previsoes_v3<- predict(modelo_v3, dados_teste)"
   ]
  },
  {
   "cell_type": "code",
   "execution_count": 34,
   "id": "incorporated-maldives",
   "metadata": {},
   "outputs": [
    {
     "name": "stdout",
     "output_type": "stream",
     "text": [
      "Confusion Matrix and Statistics\n",
      "\n",
      "          Reference\n",
      "Prediction FALSE TRUE\n",
      "     FALSE  2420  217\n",
      "     TRUE    182  260\n",
      "                                         \n",
      "               Accuracy : 0.8704         \n",
      "                 95% CI : (0.858, 0.8821)\n",
      "    No Information Rate : 0.8451         \n",
      "    P-Value [Acc > NIR] : 3.968e-05      \n",
      "                                         \n",
      "                  Kappa : 0.4898         \n",
      "                                         \n",
      " Mcnemar's Test P-Value : 0.08873        \n",
      "                                         \n",
      "            Sensitivity : 0.9301         \n",
      "            Specificity : 0.5451         \n",
      "         Pos Pred Value : 0.9177         \n",
      "         Neg Pred Value : 0.5882         \n",
      "             Prevalence : 0.8451         \n",
      "         Detection Rate : 0.7860         \n",
      "   Detection Prevalence : 0.8564         \n",
      "      Balanced Accuracy : 0.7376         \n",
      "                                         \n",
      "       'Positive' Class : FALSE          \n",
      "                                         \n"
     ]
    }
   ],
   "source": [
    "# Matriz de confusão\n",
    "print(resultados_v3<-confusionMatrix(previsoes_v3, dados_teste$Revenue))"
   ]
  },
  {
   "cell_type": "code",
   "execution_count": 140,
   "id": "direct-mystery",
   "metadata": {},
   "outputs": [
    {
     "name": "stderr",
     "output_type": "stream",
     "text": [
      "Setting direction: controls < cases\n"
     ]
    },
    {
     "data": {
      "text/html": [
       "0.73756359001381"
      ],
      "text/latex": [
       "0.73756359001381"
      ],
      "text/markdown": [
       "0.73756359001381"
      ],
      "text/plain": [
       "Multi-class area under the curve: 0.7376"
      ]
     },
     "metadata": {},
     "output_type": "display_data"
    }
   ],
   "source": [
    "# Score AUC modelo 3\n",
    "curva_roc3 <- multiclass.roc(response = dados_teste$Revenue, predictor = as.numeric(as.factor(previsoes_v3)))\n",
    "curva_roc3$auc"
   ]
  },
  {
   "cell_type": "markdown",
   "id": "varied-amsterdam",
   "metadata": {},
   "source": [
    "### Modelo 4"
   ]
  },
  {
   "cell_type": "code",
   "execution_count": 37,
   "id": "skilled-disorder",
   "metadata": {},
   "outputs": [],
   "source": [
    "# Construindo modelo 4\n",
    "modelo_v4 <- svm(Revenue ~ ., data = dados_treino_balanceados,\n",
    "                kernel = 'radial', cost= 2, gamma = 0.01)"
   ]
  },
  {
   "cell_type": "code",
   "execution_count": 38,
   "id": "junior-indication",
   "metadata": {},
   "outputs": [
    {
     "data": {
      "text/plain": [
       "\n",
       "Call:\n",
       "svm(formula = Revenue ~ ., data = dados_treino_balanceados, kernel = \"radial\", \n",
       "    cost = 2, gamma = 0.01)\n",
       "\n",
       "\n",
       "Parameters:\n",
       "   SVM-Type:  C-classification \n",
       " SVM-Kernel:  radial \n",
       "       cost:  2 \n",
       "\n",
       "Number of Support Vectors:  31544\n",
       "\n",
       " ( 16062 15482 )\n",
       "\n",
       "\n",
       "Number of Classes:  2 \n",
       "\n",
       "Levels: \n",
       " FALSE TRUE\n",
       "\n",
       "\n"
      ]
     },
     "metadata": {},
     "output_type": "display_data"
    }
   ],
   "source": [
    "# Sumário modelo grid 1\n",
    "summary(modelo_v4)"
   ]
  },
  {
   "cell_type": "code",
   "execution_count": 39,
   "id": "intensive-hampshire",
   "metadata": {},
   "outputs": [],
   "source": [
    "# Previsões modelo 4\n",
    "previsoes_v4 <- predict(modelo_v4, dados_teste)"
   ]
  },
  {
   "cell_type": "code",
   "execution_count": 108,
   "id": "casual-guyana",
   "metadata": {},
   "outputs": [
    {
     "name": "stdout",
     "output_type": "stream",
     "text": [
      "Confusion Matrix and Statistics\n",
      "\n",
      "          Reference\n",
      "Prediction FALSE TRUE\n",
      "     FALSE  2437  220\n",
      "     TRUE    165  257\n",
      "                                          \n",
      "               Accuracy : 0.875           \n",
      "                 95% CI : (0.8628, 0.8864)\n",
      "    No Information Rate : 0.8451          \n",
      "    P-Value [Acc > NIR] : 1.421e-06       \n",
      "                                          \n",
      "                  Kappa : 0.4989          \n",
      "                                          \n",
      " Mcnemar's Test P-Value : 0.005922        \n",
      "                                          \n",
      "            Sensitivity : 0.9366          \n",
      "            Specificity : 0.5388          \n",
      "         Pos Pred Value : 0.9172          \n",
      "         Neg Pred Value : 0.6090          \n",
      "             Prevalence : 0.8451          \n",
      "         Detection Rate : 0.7915          \n",
      "   Detection Prevalence : 0.8629          \n",
      "      Balanced Accuracy : 0.7377          \n",
      "                                          \n",
      "       'Positive' Class : FALSE           \n",
      "                                          \n"
     ]
    }
   ],
   "source": [
    "# Matriz de Confusão modelo 4\n",
    "print(resultados_v4<-confusionMatrix(previsoes_v4, dados_teste$Revenue))"
   ]
  },
  {
   "cell_type": "code",
   "execution_count": 41,
   "id": "handy-costs",
   "metadata": {},
   "outputs": [
    {
     "name": "stderr",
     "output_type": "stream",
     "text": [
      "Setting direction: controls < cases\n"
     ]
    },
    {
     "data": {
      "text/html": [
       "0.73768565383506"
      ],
      "text/latex": [
       "0.73768565383506"
      ],
      "text/markdown": [
       "0.73768565383506"
      ],
      "text/plain": [
       "Multi-class area under the curve: 0.7377"
      ]
     },
     "metadata": {},
     "output_type": "display_data"
    }
   ],
   "source": [
    "# Score AUC modelo 4\n",
    "curva_roc4 <- multiclass.roc(response = dados_teste$Revenue, predictor = as.numeric(as.factor(previsoes_v4)))\n",
    "curva_roc4$auc"
   ]
  },
  {
   "cell_type": "markdown",
   "id": "political-suite",
   "metadata": {},
   "source": [
    "### RESULTADOS"
   ]
  },
  {
   "cell_type": "markdown",
   "id": "likely-minimum",
   "metadata": {},
   "source": [
    "Modelo 1\n",
    "\n",
    "* Padrão Kernel Radial (RBF)\n",
    "\n",
    "Modelo 2\n",
    "\n",
    "* Kernel Radial (RDF) e SMOTE\n",
    "\n",
    "Modelo 3 \n",
    "\n",
    "* Kernel Linear e SMOTE\n",
    "\n",
    "Modelo 4\n",
    "\n",
    "* Kernel Radial (RDF), SMOTE, Hiper-parâmetro (cost=2,gamma=0.01)\n",
    "\n",
    "<br>\n",
    "O modelo 2 com Kernel Radial (RDF) e SMOTE obteve a segunda melhor acurácia 0.8746, mas foi mais equilibrado em sensitivity e specificity, obtendo melhor score AUC."
   ]
  },
  {
   "cell_type": "code",
   "execution_count": 74,
   "id": "mental-companion",
   "metadata": {},
   "outputs": [],
   "source": [
    "# Métricas modelo 1\n",
    "Accuracy<-resultados_v1$overall[\"Accuracy\"]\n",
    "Curve_auc<-curva_roc1$auc\n",
    "Sensitivity<-resultados_v1$byClass[1]\n",
    "Specificity<-resultados_v1$byClass[2]\n",
    "Precision<-resultados_v1$byClass[5]\n",
    "Recall<-resultados_v1$byClass[6]\n",
    "F1<-resultados_v1$byClass[7]"
   ]
  },
  {
   "cell_type": "code",
   "execution_count": 73,
   "id": "generic-enough",
   "metadata": {},
   "outputs": [],
   "source": [
    "# Métricas modelo 2\n",
    "Accuracy_v2<-resultados_v2$overall[\"Accuracy\"]\n",
    "Curve_auc_v2<-curva_roc2$auc\n",
    "Sensitivity_v2<-resultados_v2$byClass[1]\n",
    "Specificity_v2<-resultados_v2$byClass[2]\n",
    "Precision_v2<-resultados_v2$byClass[5]\n",
    "Recall_v2<-resultados_v2$byClass[6]\n",
    "F1_v2<-resultados_v2$byClass[7]"
   ]
  },
  {
   "cell_type": "code",
   "execution_count": 141,
   "id": "electric-distribution",
   "metadata": {},
   "outputs": [],
   "source": [
    "# Métricas modelo 3\n",
    "Accuracy_v3<-resultados_v3$overall[\"Accuracy\"]\n",
    "Curve_auc_v3<-curva_roc3$auc\n",
    "Sensitivity_v3<-resultados_v3$byClass[1]\n",
    "Specificity_v3<-resultados_v3$byClass[2]\n",
    "Precision_v3<-resultados_v3$byClass[5]\n",
    "Recall_v3<-resultados_v3$byClass[6]\n",
    "F1_v3<-resultados_v3$byClass[7]"
   ]
  },
  {
   "cell_type": "code",
   "execution_count": 109,
   "id": "magnetic-comparison",
   "metadata": {},
   "outputs": [],
   "source": [
    "# Métricas modelo 4\n",
    "Accuracy_v4<-resultados_v4$overall[\"Accuracy\"]\n",
    "Curve_auc_v4<-curva_roc4$auc\n",
    "Sensitivity_v4<-resultados_v4$byClass[1]\n",
    "Specificity_v4<-resultados_v4$byClass[2]\n",
    "Precision_v4<-resultados_v4$byClass[5]\n",
    "Recall_v4<-resultados_v4$byClass[6]\n",
    "F1_v4<-resultados_v4$byClass[7]"
   ]
  },
  {
   "cell_type": "code",
   "execution_count": 150,
   "id": "wrapped-stations",
   "metadata": {},
   "outputs": [],
   "source": [
    "# Métricas\n",
    "modelo1<- c(\"Modelo 1\",Accuracy,Curve_auc,Sensitivity,Specificity,Precision,Recall,F1)\n",
    "modelo2<- c(\"Modelo 2\",Accuracy_v2,Curve_auc_v2,Sensitivity_v2,Specificity_v2,Precision_v2,Recall_v2,F1_v2)\n",
    "modelo3<- c(\"Modelo 3\",Accuracy_v3,Curve_auc_v3,Sensitivity_v3,Specificity_v3,Precision_v3,Recall_v3,F1_v3)\n",
    "modelo4<- c(\"Modelo 4\",Accuracy_v4,Curve_auc_v4,Sensitivity_v4,Specificity_v4,Precision_v4,Recall_v4,F1_v4)"
   ]
  },
  {
   "cell_type": "code",
   "execution_count": 151,
   "id": "innocent-cancer",
   "metadata": {},
   "outputs": [],
   "source": [
    "# Concatenando os resultados\n",
    "resultado_final<- rbind(modelo1,modelo2,modelo3,modelo4)\n",
    "rownames(resultado_final)<- c(\"1\",\"2\",\"3\",\"4\")\n",
    "colnames(resultado_final)<- c(\"\",\"Accuracy\",\"AUC Score\",\"Sensitivity\",\"Specificity\",\"Precision\",\"Recall\",\"F1\")"
   ]
  },
  {
   "cell_type": "code",
   "execution_count": 152,
   "id": "respiratory-native",
   "metadata": {},
   "outputs": [
    {
     "data": {
      "text/html": [
       "<table>\n",
       "<thead><tr><th scope=col></th><th scope=col>Accuracy</th><th scope=col>AUC Score</th><th scope=col>Sensitivity</th><th scope=col>Specificity</th><th scope=col>Precision</th><th scope=col>Recall</th><th scope=col>F1</th></tr></thead>\n",
       "<tbody>\n",
       "\t<tr><td>Modelo 1         </td><td>0.881779798635921</td><td>0.691213580264818</td><td>0.967332820906995</td><td>0.415094339622642</td><td>0.900214592274678</td><td>0.967332820906995</td><td>0.932567617636162</td></tr>\n",
       "\t<tr><td>Modelo 2         </td><td>0.8746346216304  </td><td>0.742629842872037</td><td>0.933897002305919</td><td>0.551362683438155</td><td>0.919062027231467</td><td>0.933897002305919</td><td>0.926420129622569</td></tr>\n",
       "\t<tr><td>Modelo 3         </td><td>0.870412471581682</td><td>0.73756359001381 </td><td>0.930053804765565</td><td>0.545073375262054</td><td>0.917709518392112</td><td>0.930053804765565</td><td>0.923840427562512</td></tr>\n",
       "\t<tr><td>Modelo 4         </td><td>0.874959402403378</td><td>0.73768565383506 </td><td>0.936587240584166</td><td>0.538784067085954</td><td>0.917199849454272</td><td>0.936587240584166</td><td>0.926792165810991</td></tr>\n",
       "</tbody>\n",
       "</table>\n"
      ],
      "text/latex": [
       "\\begin{tabular}{r|llllllll}\n",
       "  & Accuracy & AUC Score & Sensitivity & Specificity & Precision & Recall & F1\\\\\n",
       "\\hline\n",
       "\t Modelo 1          & 0.881779798635921 & 0.691213580264818 & 0.967332820906995 & 0.415094339622642 & 0.900214592274678 & 0.967332820906995 & 0.932567617636162\\\\\n",
       "\t Modelo 2          & 0.8746346216304   & 0.742629842872037 & 0.933897002305919 & 0.551362683438155 & 0.919062027231467 & 0.933897002305919 & 0.926420129622569\\\\\n",
       "\t Modelo 3          & 0.870412471581682 & 0.73756359001381  & 0.930053804765565 & 0.545073375262054 & 0.917709518392112 & 0.930053804765565 & 0.923840427562512\\\\\n",
       "\t Modelo 4          & 0.874959402403378 & 0.73768565383506  & 0.936587240584166 & 0.538784067085954 & 0.917199849454272 & 0.936587240584166 & 0.926792165810991\\\\\n",
       "\\end{tabular}\n"
      ],
      "text/markdown": [
       "\n",
       "|  | Accuracy | AUC Score | Sensitivity | Specificity | Precision | Recall | F1 |\n",
       "|---|---|---|---|---|---|---|---|\n",
       "| Modelo 1          | 0.881779798635921 | 0.691213580264818 | 0.967332820906995 | 0.415094339622642 | 0.900214592274678 | 0.967332820906995 | 0.932567617636162 |\n",
       "| Modelo 2          | 0.8746346216304   | 0.742629842872037 | 0.933897002305919 | 0.551362683438155 | 0.919062027231467 | 0.933897002305919 | 0.926420129622569 |\n",
       "| Modelo 3          | 0.870412471581682 | 0.73756359001381  | 0.930053804765565 | 0.545073375262054 | 0.917709518392112 | 0.930053804765565 | 0.923840427562512 |\n",
       "| Modelo 4          | 0.874959402403378 | 0.73768565383506  | 0.936587240584166 | 0.538784067085954 | 0.917199849454272 | 0.936587240584166 | 0.926792165810991 |\n",
       "\n"
      ],
      "text/plain": [
       "           Accuracy          AUC Score         Sensitivity      \n",
       "1 Modelo 1 0.881779798635921 0.691213580264818 0.967332820906995\n",
       "2 Modelo 2 0.8746346216304   0.742629842872037 0.933897002305919\n",
       "3 Modelo 3 0.870412471581682 0.73756359001381  0.930053804765565\n",
       "4 Modelo 4 0.874959402403378 0.73768565383506  0.936587240584166\n",
       "  Specificity       Precision         Recall            F1               \n",
       "1 0.415094339622642 0.900214592274678 0.967332820906995 0.932567617636162\n",
       "2 0.551362683438155 0.919062027231467 0.933897002305919 0.926420129622569\n",
       "3 0.545073375262054 0.917709518392112 0.930053804765565 0.923840427562512\n",
       "4 0.538784067085954 0.917199849454272 0.936587240584166 0.926792165810991"
      ]
     },
     "metadata": {},
     "output_type": "display_data"
    }
   ],
   "source": [
    "# Comparando modelos\n",
    "resultado_final"
   ]
  }
 ],
 "metadata": {
  "kernelspec": {
   "display_name": "R",
   "language": "R",
   "name": "ir"
  },
  "language_info": {
   "codemirror_mode": "r",
   "file_extension": ".r",
   "mimetype": "text/x-r-source",
   "name": "R",
   "pygments_lexer": "r",
   "version": "3.6.1"
  }
 },
 "nbformat": 4,
 "nbformat_minor": 5
}
